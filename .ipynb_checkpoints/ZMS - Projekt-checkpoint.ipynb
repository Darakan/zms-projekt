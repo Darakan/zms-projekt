{
 "cells": [
  {
   "cell_type": "markdown",
   "metadata": {},
   "source": [
    "# Projekt ZMS "
   ]
  },
  {
   "cell_type": "code",
   "execution_count": 5,
   "metadata": {},
   "outputs": [],
   "source": [
    "import pandas as pd\n",
    "import numpy as np\n",
    "import random"
   ]
  },
  {
   "cell_type": "code",
   "execution_count": 6,
   "metadata": {},
   "outputs": [],
   "source": [
    "np.random.seed(70360 + 68032 + 57056)"
   ]
  },
  {
   "cell_type": "code",
   "execution_count": 10,
   "metadata": {},
   "outputs": [],
   "source": [
    "from enum import Enum\n",
    "\n",
    "class Services(Enum):\n",
    "    LIGHT = 'L'\n",
    "    COMPLEX = 'C'"
   ]
  },
  {
   "cell_type": "code",
   "execution_count": 7,
   "metadata": {},
   "outputs": [],
   "source": [
    "# ceny usług w złotych\n",
    "complex_service_price = 1500\n",
    "light_service_price   = 800\n",
    "\n",
    "# Koszt pojazdu\n",
    "car_cost = 10000\n",
    "\n",
    "# średnia liczba klientów\n",
    "avg_clients_number = 10\n",
    "\n",
    "# horyzont analizy w dniach\n",
    "horizon = 90\n",
    "\n",
    "# liczba symulacji\n",
    "iterations = 10"
   ]
  },
  {
   "cell_type": "code",
   "execution_count": 12,
   "metadata": {},
   "outputs": [],
   "source": [
    "# Sprawdzanie czy jest jakis wolny samochod\n",
    "def is_any_car_available(cars):\n",
    "    for car in cars:\n",
    "        if car < 2:\n",
    "            return true\n",
    "        \n",
    "    return false"
   ]
  },
  {
   "cell_type": "code",
   "execution_count": 13,
   "metadata": {},
   "outputs": [
    {
     "ename": "SyntaxError",
     "evalue": "unexpected EOF while parsing (<ipython-input-13-c4ce5b90c9a9>, line 4)",
     "output_type": "error",
     "traceback": [
      "\u001b[1;36m  File \u001b[1;32m\"<ipython-input-13-c4ce5b90c9a9>\"\u001b[1;36m, line \u001b[1;32m4\u001b[0m\n\u001b[1;33m    \u001b[0m\n\u001b[1;37m    ^\u001b[0m\n\u001b[1;31mSyntaxError\u001b[0m\u001b[1;31m:\u001b[0m unexpected EOF while parsing\n"
     ]
    }
   ],
   "source": [
    "# Obsługa usług\n",
    "def pick_services(services, number_of_cars):\n",
    "    # TO-DO\n",
    "    \n",
    "    # return: - Tablica uslug najbardziej \n",
    "    # korzystnych dla danej liczby samochodow"
   ]
  },
  {
   "cell_type": "code",
   "execution_count": 11,
   "metadata": {},
   "outputs": [
    {
     "ename": "SyntaxError",
     "evalue": "unexpected EOF while parsing (<ipython-input-11-e62748594eff>, line 20)",
     "output_type": "error",
     "traceback": [
      "\u001b[1;36m  File \u001b[1;32m\"<ipython-input-11-e62748594eff>\"\u001b[1;36m, line \u001b[1;32m20\u001b[0m\n\u001b[1;33m    \u001b[0m\n\u001b[1;37m    ^\u001b[0m\n\u001b[1;31mSyntaxError\u001b[0m\u001b[1;31m:\u001b[0m unexpected EOF while parsing\n"
     ]
    }
   ],
   "source": [
    "def daily_simulation(clients, services, number_of_cars,\n",
    "                     fuel_cost = 0, vermicide_cost = 0):\n",
    "    \n",
    "    cars = [0] * number_of_cars\n",
    "    \n",
    "    # Dodać jeszcze jeden koszt\n",
    "    \n",
    "    \n",
    "    # total_cost = ...\n",
    "    \n",
    "    # Przypisać optymalne usługi\n",
    "    \n",
    "    # Iterować po nich i obliczyć pełny koszt na zasadzie:\n",
    "    # COMPLEX: full_vermicide_cost = vermicide_cost\n",
    "    # LIGHT:   full_vermicide_cost = vermicide_cost * 0,6\n",
    "\n",
    "    # INCOME:\n",
    "    # COMPLEX: 1500\n",
    "    # LIGHT: 800\n",
    "    \n",
    "    \n",
    "    # for service in services:\n",
    "    # Dodajesz koszt paliwa\n",
    "    # Dodajesz income dla danej uslugi\n",
    "    # Dodajesz czas dla danego samochodu, np:\n",
    "    #   - COMPLEX: car[i] += 2\n",
    "    #   - LIGHT:   car[i] += 1\n",
    "\n",
    "    # Zastanowić się nad zmianą systemu: 1Dzień = 2x C; 4x L\n",
    "    \n",
    "    \n",
    "    # return total_income - total_cost # Zwraca dochód\n",
    "    "
   ]
  },
  {
   "cell_type": "code",
   "execution_count": null,
   "metadata": {},
   "outputs": [],
   "source": [
    "# def model:\n",
    "\n",
    "# obsługa horyzontu czasowego\n",
    "# czyli for i in range(horizon) przykladowo\n",
    "# Obsługa kosztów pojazdu (ten stały)\n",
    "\n"
   ]
  }
 ],
 "metadata": {
  "kernelspec": {
   "display_name": "Python 3",
   "language": "python",
   "name": "python3"
  },
  "language_info": {
   "codemirror_mode": {
    "name": "ipython",
    "version": 3
   },
   "file_extension": ".py",
   "mimetype": "text/x-python",
   "name": "python",
   "nbconvert_exporter": "python",
   "pygments_lexer": "ipython3",
   "version": "3.7.4"
  }
 },
 "nbformat": 4,
 "nbformat_minor": 2
}
